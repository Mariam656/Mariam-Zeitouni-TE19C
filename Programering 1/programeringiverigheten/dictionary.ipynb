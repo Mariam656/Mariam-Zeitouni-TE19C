{
 "metadata": {
  "language_info": {
   "codemirror_mode": {
    "name": "ipython",
    "version": 3
   },
   "file_extension": ".py",
   "mimetype": "text/x-python",
   "name": "python",
   "nbconvert_exporter": "python",
   "pygments_lexer": "ipython3",
   "version": "3.8.3-final"
  },
  "orig_nbformat": 2,
  "kernelspec": {
   "name": "python3",
   "display_name": "Python 3.8.3 64-bit (conda)",
   "metadata": {
    "interpreter": {
     "hash": "6ff977aded9bfdf189d056fda8ee5f7c50e6ef74975dfbda7b7452ab4ee99765"
    }
   }
  }
 },
 "nbformat": 4,
 "nbformat_minor": 2,
 "cells": [
  {
   "cell_type": "code",
   "execution_count": 22,
   "metadata": {},
   "outputs": [
    {
     "output_type": "stream",
     "name": "stdout",
     "text": [
      "850\n"
     ]
    }
   ],
   "source": [
    "# 1\n",
    "\n",
    "kurser = dict(\n",
    "    IDR01 = 100,\n",
    "    SVA02 = 100,\n",
    "    ENG06 = 100,\n",
    "    FYS01A = 150,\n",
    "    DAODAC0 = 100,\n",
    "    PRR01 = 100,\n",
    "    WEUWEB01 = 100,\n",
    "    MAT04 = 100,\n",
    ")\n",
    "\n",
    "antal_poäng = 0\n",
    "\n",
    "for key, value in kurser.items():\n",
    "    antal_poäng += value\n",
    "    \n",
    "print(antal_poäng)"
   ]
  },
  {
   "cell_type": "code",
   "execution_count": 57,
   "metadata": {
    "tags": []
   },
   "outputs": [],
   "source": [
    "# 2 \n",
    "import random as rnd \n",
    "\n",
    "for i in range(100000):\n",
    "    i = rnd.randint(1,6)\n",
    "\n",
    "siffror = dict(\n",
    "    1 = \n",
    "    2 = \n",
    "    3 = \n",
    "    4 =\n",
    "    5 =\n",
    "    6 =\n",
    ")\n"
   ]
  },
  {
   "cell_type": "code",
   "execution_count": null,
   "metadata": {},
   "outputs": [],
   "source": []
  }
 ]
}