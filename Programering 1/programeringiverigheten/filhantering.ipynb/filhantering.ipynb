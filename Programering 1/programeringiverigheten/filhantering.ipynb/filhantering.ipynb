{
 "metadata": {
  "language_info": {
   "codemirror_mode": {
    "name": "ipython",
    "version": 3
   },
   "file_extension": ".py",
   "mimetype": "text/x-python",
   "name": "python",
   "nbconvert_exporter": "python",
   "pygments_lexer": "ipython3",
   "version": "3.8.3-final"
  },
  "orig_nbformat": 2,
  "kernelspec": {
   "name": "python3",
   "display_name": "Python 3.8.3 64-bit (conda)",
   "metadata": {
    "interpreter": {
     "hash": "6ff977aded9bfdf189d056fda8ee5f7c50e6ef74975dfbda7b7452ab4ee99765"
    }
   }
  }
 },
 "nbformat": 4,
 "nbformat_minor": 2,
 "cells": [
  {
   "cell_type": "code",
   "execution_count": 28,
   "metadata": {},
   "outputs": [],
   "source": [
    "# 1a\n",
    "import random as rnd\n",
    "tallista = []\n",
    "\n",
    "for i in range(10): \n",
    "    i = rnd.randint(1,6)\n",
    "    tallista.append(i)\n",
    "\n",
    "with open(\"diceRoll.txt\", \"w\") as f:\n",
    "    f.write(f\"Simulera 10 tarningskast: {tallista}\\n\")\n",
    "\n",
    "# 1b\n",
    "\n",
    "tallista.sort()\n",
    "with open(\"diceRoll.txt\", \"a\") as f:\n",
    "    f.write(f\"Kastet sorterat: {tallista}\\n\")\n",
    "\n",
    "# 1c\n",
    "\n",
    "antalfemmor = 0\n",
    "\n",
    "for i in range(10):\n",
    "    if tallista[i] == 5:\n",
    "        antalfemmor += 1\n",
    "\n",
    "with open(\"diceRoll.txt\", \"a\") as f:\n",
    "    f.write(f\"Antal femmor: {antalfemmor}\")\n"
   ]
  },
  {
   "cell_type": "code",
   "execution_count": 42,
   "metadata": {},
   "outputs": [
    {
     "output_type": "error",
     "ename": "SyntaxError",
     "evalue": "invalid syntax (<ipython-input-42-1650e7f71880>, line 10)",
     "traceback": [
      "\u001b[1;36m  File \u001b[1;32m\"<ipython-input-42-1650e7f71880>\"\u001b[1;36m, line \u001b[1;32m10\u001b[0m\n\u001b[1;33m    with open(\"Provresultat.txt\", \"r\") as f1, open with(\"Provresultat-sorterat.txt\", \"w\") as f1:\u001b[0m\n\u001b[1;37m                                                   ^\u001b[0m\n\u001b[1;31mSyntaxError\u001b[0m\u001b[1;31m:\u001b[0m invalid syntax\n"
     ]
    }
   ],
   "source": [
    "# 2a\n",
    "\n",
    "with open(\"Provresultat.txt\", \"r\") as f1:\n",
    "    for rad in f1:\n",
    "        print(rad, end=\" \\n\")\n",
    "\n",
    "#2b \n",
    "namn = []\n",
    "\n",
    "with open(\"Provresultat.txt\", \"r\") as f1, open with(\"Provresultat-sorterat.txt\", \"w\") as f1:\n",
    "    for rad in f1:\n",
    "        f1.write(namn.append[rad])\n",
    "\n",
    "\n",
    "\n"
   ]
  },
  {
   "cell_type": "code",
   "execution_count": null,
   "metadata": {},
   "outputs": [],
   "source": []
  }
 ]
}