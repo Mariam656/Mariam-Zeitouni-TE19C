{
 "metadata": {
  "language_info": {
   "codemirror_mode": {
    "name": "ipython",
    "version": 3
   },
   "file_extension": ".py",
   "mimetype": "text/x-python",
   "name": "python",
   "nbconvert_exporter": "python",
   "pygments_lexer": "ipython3",
   "version": "3.8.3-final"
  },
  "orig_nbformat": 2,
  "kernelspec": {
   "name": "python3",
   "display_name": "Python 3.8.3 64-bit (conda)",
   "metadata": {
    "interpreter": {
     "hash": "6ff977aded9bfdf189d056fda8ee5f7c50e6ef74975dfbda7b7452ab4ee99765"
    }
   }
  }
 },
 "nbformat": 4,
 "nbformat_minor": 2,
 "cells": [
  {
   "cell_type": "code",
   "execution_count": 65,
   "metadata": {},
   "outputs": [],
   "source": [
    "# 1a\n",
    "import random as rnd\n",
    "tallista = []\n",
    "\n",
    "for i in range(10): \n",
    "    i = rnd.randint(1,6)\n",
    "    tallista.append(i)\n",
    "\n",
    "with open(\"diceRoll.txt\", \"w\") as f:\n",
    "    f.write(f\"Simulera 10 tarningskast: {tallista}\\n\")\n",
    "\n",
    "# 1b\n",
    "\n",
    "tallista.sort()\n",
    "with open(\"diceRoll.txt\", \"a\") as f:\n",
    "    f.write(f\"Kastet sorterat: {tallista}\")"
   ]
  },
  {
   "cell_type": "code",
   "execution_count": null,
   "metadata": {},
   "outputs": [],
   "source": []
  }
 ]
}