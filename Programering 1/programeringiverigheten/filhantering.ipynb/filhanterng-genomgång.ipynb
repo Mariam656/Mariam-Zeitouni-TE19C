{
 "metadata": {
  "language_info": {
   "codemirror_mode": {
    "name": "ipython",
    "version": 3
   },
   "file_extension": ".py",
   "mimetype": "text/x-python",
   "name": "python",
   "nbconvert_exporter": "python",
   "pygments_lexer": "ipython3",
   "version": "3.8.3-final"
  },
  "orig_nbformat": 2,
  "kernelspec": {
   "name": "python3",
   "display_name": "Python 3.8.3 64-bit (conda)",
   "metadata": {
    "interpreter": {
     "hash": "6ff977aded9bfdf189d056fda8ee5f7c50e6ef74975dfbda7b7452ab4ee99765"
    }
   }
  }
 },
 "nbformat": 4,
 "nbformat_minor": 2,
 "cells": [
  {
   "source": [
    "# Filhantering 1 - .txt-filer\n",
    "* läs in fil och skriv ut texter"
   ],
   "cell_type": "markdown",
   "metadata": {}
  },
  {
   "cell_type": "code",
   "execution_count": 2,
   "metadata": {},
   "outputs": [
    {
     "output_type": "stream",
     "name": "stdout",
     "text": [
      "Isaac Newton 1643-01-04\n         Gallileo Gallilei 1564-02-15 \nLeonhard Euler 1707-04-15\nAlbert Einstein 1879-03-14       \n     Carl Friedrich Gauss 1799-04-30\nStephen Hawking 1942-01-08\n"
     ]
    }
   ],
   "source": [
    "try:\n",
    "    with open(\"Stora forskare.txt\", \"r\") as f1:\n",
    "        for rad in f1:\n",
    "            print(rad, end=\"\")\n",
    "except FileNotFoundError:\n",
    "    print(\"Filen hittades inte, ceska stavningen\")\n"
   ]
  },
  {
   "cell_type": "code",
   "execution_count": null,
   "metadata": {},
   "outputs": [],
   "source": [
    "with open(\"Stora forskare.txt\", \"r\") as f1:\n",
    "    for rad in f1:\n",
    "        print(rad, end=\"\")"
   ]
  },
  {
   "source": [
    "# Hitta alla födda före 1800-talet"
   ],
   "cell_type": "markdown",
   "metadata": {}
  },
  {
   "cell_type": "code",
   "execution_count": 3,
   "metadata": {},
   "outputs": [
    {
     "output_type": "stream",
     "name": "stdout",
     "text": [
      "1643\n1564\n1707\n1879\n1799\n1942\n[]\n"
     ]
    }
   ],
   "source": [
    "före1800 = []\n",
    "\n",
    "with open(\"Stora forskare.txt\", \"r\") as f1:\n",
    "    for rad in f1:\n",
    "        # tar bort blankstag och radbrytningar i början och slutet av varje rad\n",
    "        rad = rad.strip(\" \\n\")\n",
    "        print(rad[-10:-6])\n",
    "\n",
    "    # plocka ut året och typomvanda till int\n",
    "    år = int(rad[-10:-6])\n",
    "    # checka om året för < 1800, lägg till i en         lista\n",
    "    if år < 1800:\n",
    "        före1800.append(rad[0:-11])\n",
    "print(före1800)"
   ]
  },
  {
   "source": [
    "# Skriv till fil"
   ],
   "cell_type": "markdown",
   "metadata": {}
  },
  {
   "cell_type": "code",
   "execution_count": 13,
   "metadata": {},
   "outputs": [
    {
     "output_type": "error",
     "ename": "ValueError",
     "evalue": "I/O operation on closed file.",
     "traceback": [
      "\u001b[1;31m---------------------------------------------------------------------------\u001b[0m",
      "\u001b[1;31mValueError\u001b[0m                                Traceback (most recent call last)",
      "\u001b[1;32m<ipython-input-13-e5e85a5ff2f3>\u001b[0m in \u001b[0;36m<module>\u001b[1;34m\u001b[0m\n\u001b[0;32m      4\u001b[0m         \u001b[0mf2\u001b[0m\u001b[1;33m.\u001b[0m\u001b[0mwrite\u001b[0m\u001b[1;33m(\u001b[0m\u001b[0mrad\u001b[0m\u001b[1;33m)\u001b[0m\u001b[1;33m\u001b[0m\u001b[1;33m\u001b[0m\u001b[0m\n\u001b[0;32m      5\u001b[0m \u001b[1;33m\u001b[0m\u001b[0m\n\u001b[1;32m----> 6\u001b[1;33m \u001b[0mf2\u001b[0m\u001b[1;33m.\u001b[0m\u001b[0mwrite\u001b[0m\u001b[1;33m(\u001b[0m\u001b[1;34m\"Andrew wiles 1953-04-11\\n\"\u001b[0m\u001b[1;33m)\u001b[0m\u001b[1;33m\u001b[0m\u001b[1;33m\u001b[0m\u001b[0m\n\u001b[0m",
      "\u001b[1;31mValueError\u001b[0m: I/O operation on closed file."
     ]
    }
   ],
   "source": [
    "with open(\"Stora forskare.txt\", \"r\") as f1, open(\"Stora forskare 2.txt\",\"w\") as f2:\n",
    "    for rad in f1:\n",
    "        rad = rad.strip(\" \") # removes trailing and leading spaces\n",
    "        f2.write(rad)\n",
    "    \n",
    "    f2.write(\"Andrew Wiles 1953-04-11\\n\")\n"
   ]
  },
  {
   "cell_type": "code",
   "execution_count": null,
   "metadata": {},
   "outputs": [],
   "source": [
    "with open(\"Stora forskare 2.txt\", \"w\") as f1: # sriver över gamla filen\n",
    "    f1.write(\"Marie Curie 1867-11-07\")"
   ]
  },
  {
   "cell_type": "code",
   "execution_count": null,
   "metadata": {},
   "outputs": [],
   "source": [
    "with open(\"Stora forskare 2.txt\", \"a\") as f1: # option \"a\" står för append, lägger till i slutet\n",
    "    f1.write(\"Pierre Curie 1859-05-15\\n\")"
   ]
  },
  {
   "source": [
    "## Typomvandlingar mm\n",
    "- en .txt-fil kan endast acceptera strängar och inte tal"
   ],
   "cell_type": "markdown",
   "metadata": {}
  },
  {
   "cell_type": "code",
   "execution_count": 10,
   "metadata": {},
   "outputs": [
    {
     "output_type": "stream",
     "name": "stdout",
     "text": [
      "[0, 1, 2, 3, 4, 5, 6, 7, 8, 9]\n"
     ]
    }
   ],
   "source": [
    "tallista = [i for i in range(10)]\n",
    "print(tallista)\n",
    "\n",
    "with open(\"tal.txt\", \"w\") as f:\n",
    "    #f.write(tallista) går ej att lägga till en lista\n",
    "    for tal in tallista:\n",
    "        f.write(f\"{tal} \")"
   ]
  },
  {
   "cell_type": "code",
   "execution_count": 14,
   "metadata": {},
   "outputs": [],
   "source": [
    "tallista = [i for i in range(10)]\n",
    "\n",
    "with open(\"tal.txt\", \"w\") as f:\n",
    "    f.write(f\"{tallista}\")"
   ]
  },
  {
   "cell_type": "code",
   "execution_count": null,
   "metadata": {},
   "outputs": [],
   "source": []
  }
 ]
}