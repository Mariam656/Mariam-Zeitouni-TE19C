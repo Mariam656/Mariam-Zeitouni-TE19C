{
 "metadata": {
  "language_info": {
   "codemirror_mode": {
    "name": "ipython",
    "version": 3
   },
   "file_extension": ".py",
   "mimetype": "text/x-python",
   "name": "python",
   "nbconvert_exporter": "python",
   "pygments_lexer": "ipython3",
   "version": 3
  },
  "orig_nbformat": 2
 },
 "nbformat": 4,
 "nbformat_minor": 2,
 "cells": [
  {
   "source": [
    "# Dictionary\n",
    "- key:value par\n",
    "- metafor: vanlig ordlista/lexiken"
   ],
   "cell_type": "markdown",
   "metadata": {}
  },
  {
   "cell_type": "code",
   "execution_count": null,
   "metadata": {},
   "outputs": [],
   "source": [
    "# syntax för dictionary\n",
    "person = dict(\n",
    "    namn = \"Mariam\",\n",
    "    ålder = \"17\",\n",
    "    yrke = \"Astrounot\",\n",
    "    arbetsplats = \"Nasa\",\n",
    ")\n",
    "\n",
    "#åtkomstoperatorn [] för att hitta värderna i key:value par\n",
    "print(f\"{person['namn']} är {person['yrke']} och jobbar på {person['arbetsplats']}\")"
   ]
  },
  {
   "cell_type": "code",
   "execution_count": null,
   "metadata": {},
   "outputs": [],
   "source": [
    "# syntax med {}\n",
    "glosor = {\n",
    "    \"tilldela\":\"ge ett värde till en variabel\",\n",
    "    \"datastruktur\": \"strukturering av data\",\n",
    "    \"sträng\": \"sekvens av tecken\"\n",
    "}\n",
    "\n",
    "# lägga till ett element\n",
    "glosor[\"dictionary\"] = \"datastruktur för att spara data i key:valuepar\"\n",
    "\n",
    "\"\"\"print(glosor[\"sträng\"])\n",
    "print(glosor[\"dictionary\"])\n",
    "print(glosor[\"tilldela\"])\"\"\"\n",
    "\n",
    "print(\"Ord vi behöver lära oss: \")\n",
    "for key in glosor:\n",
    "    print(f\"{key}  \\t {glosor[key]}\")\n",
    "\n",
    "print(\"\\n\\nGloslista\")\n",
    "# ett annat sätt\n",
    "for key, value in glosor.item():\n",
    "    print(f\"{key}  \\t {value}\")"
   ]
  },
  {
   "cell_type": "code",
   "execution_count": null,
   "metadata": {},
   "outputs": [],
   "source": [
    "glosor = {\n",
    "    \"tilldela\":\"ge ett värde till en variabel\",\n",
    "    \"datastruktur\": \"strukturering av data\",\n",
    "    \"sträng\": \"sekvens av tecken\"\n",
    "}\n",
    "\n",
    "print(glosor)"
   ]
  },
  {
   "cell_type": "code",
   "execution_count": null,
   "metadata": {},
   "outputs": [],
   "source": [
    "husdjur = {\n",
    "    \"djur\": \"fisk\",\n",
    "    \"ålder\": 5,\n",
    "    \"ätbar\": False,\n",
    "    \"actions\": [\"simma fram\", \"simma bak\", \"äta\"]\n",
    "}\n"
   ]
  }
 ]
}