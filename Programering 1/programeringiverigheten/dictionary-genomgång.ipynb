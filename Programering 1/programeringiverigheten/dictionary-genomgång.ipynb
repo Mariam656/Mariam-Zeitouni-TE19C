{
 "metadata": {
  "language_info": {
   "codemirror_mode": {
    "name": "ipython",
    "version": 3
   },
   "file_extension": ".py",
   "mimetype": "text/x-python",
   "name": "python",
   "nbconvert_exporter": "python",
   "pygments_lexer": "ipython3",
   "version": "3.8.3-final"
  },
  "orig_nbformat": 2,
  "kernelspec": {
   "name": "python3",
   "display_name": "Python 3.8.3 64-bit (conda)",
   "metadata": {
    "interpreter": {
     "hash": "6ff977aded9bfdf189d056fda8ee5f7c50e6ef74975dfbda7b7452ab4ee99765"
    }
   }
  }
 },
 "nbformat": 4,
 "nbformat_minor": 2,
 "cells": [
  {
   "source": [
    "# Dictionary\n",
    "- key:value par\n",
    "- metafor: vanlig ordlista/lexiken"
   ],
   "cell_type": "markdown",
   "metadata": {}
  },
  {
   "cell_type": "code",
   "execution_count": 1,
   "metadata": {},
   "outputs": [
    {
     "output_type": "stream",
     "name": "stdout",
     "text": [
      "Mariam är Astrounot och jobbar på Nasa\n"
     ]
    }
   ],
   "source": [
    "# syntax för dictionary\n",
    "person = dict(\n",
    "    namn = \"Mariam\",\n",
    "    ålder = \"17\",\n",
    "    yrke = \"Astrounot\",\n",
    "    arbetsplats = \"Nasa\",\n",
    ")\n",
    "\n",
    "#åtkomstoperatorn [] för att hitta värderna i key:value par\n",
    "print(f\"{person['namn']} är {person['yrke']} och jobbar på {person['arbetsplats']}\")"
   ]
  },
  {
   "cell_type": "code",
   "execution_count": 4,
   "metadata": {},
   "outputs": [
    {
     "output_type": "stream",
     "name": "stdout",
     "text": [
      "Orden vi ska lära oss är: \ntilldela, datastruktur, sträng, dictionary, \n\nGlosa \t\t Betydelse\ntilldela  \t ge ett värde till en variabel\ndatastruktur  \t struktuering av data\nsträng  \t sekvens av tecken\ndictionary  \t datastruktur för att spara data i key:value par\n"
     ]
    }
   ],
   "source": [
    "# syntax med måsvingar {}\n",
    "glosor = {\n",
    "    \"tilldela\":\"ge ett värde till en variabel\",\n",
    "    \"datastruktur\":\"struktuering av data\",\n",
    "    \"sträng\": \"sekvens av tecken\"\n",
    "}\n",
    "# lägga till element i dictionary\n",
    "glosor[\"dictionary\"] = \"datastruktur för att spara data i key:value par\"\n",
    "\n",
    "\n",
    "print(\"Orden vi ska lära oss är: \")\n",
    "# itererar över nycklarna i dictionary\n",
    "for key in glosor:\n",
    "    print(key, end =\", \")\n",
    "\n",
    "print(\"\\n\\nGlosa \\t\\t Betydelse\")\n",
    "# itererar över nyckel, värde i dictionary\n",
    "for key, value in glosor.items():\n",
    "    print(f\"{key}  \\t {value}\")"
   ]
  },
  {
   "cell_type": "code",
   "execution_count": null,
   "metadata": {},
   "outputs": [],
   "source": [
    "glosor = {\n",
    "    \"tilldela\":\"ge ett värde till en variabel\",\n",
    "    \"datastruktur\": \"strukturering av data\",\n",
    "    \"sträng\": \"sekvens av tecken\"\n",
    "}\n",
    "\n",
    "print(glosor)"
   ]
  },
  {
   "cell_type": "code",
   "execution_count": 5,
   "metadata": {},
   "outputs": [
    {
     "output_type": "stream",
     "name": "stdout",
     "text": [
      "simma bak\n"
     ]
    }
   ],
   "source": [
    "husdjur = {\n",
    "    \"djur\": \"fisk\",\n",
    "    \"ålder\": 5,\n",
    "    \"ätbar\": False,\n",
    "    \"actions\": [\"simma fram\", \"simma bak\", \"simma höger\"]\n",
    "}\n",
    "\n",
    "print(husdjur[\"actions\"][1])"
   ]
  },
  {
   "cell_type": "code",
   "execution_count": null,
   "metadata": {},
   "outputs": [],
   "source": [
    "husdjur = \"katt\"\n",
    "ålder = 5\n",
    "\n",
    "print(f\"Mitt husdjur är {husdjur}, den är {ålder} år gammal\")"
   ]
  },
  {
   "cell_type": "code",
   "execution_count": null,
   "metadata": {},
   "outputs": [],
   "source": [
    "# for-sats för att generera key-value par\n",
    "import random as rnd \n",
    "\n",
    "siffror = {}\n",
    "\n",
    "for i in range(10):\n",
    "    slumptal = rnd.randint(1,10)\n",
    "    siffror[f\"{i}\"] = slumptal\n",
    "\n",
    "\n",
    "print(siffror)"
   ]
  }
 ]
}