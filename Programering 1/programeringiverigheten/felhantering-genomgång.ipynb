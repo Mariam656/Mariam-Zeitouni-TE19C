{
 "metadata": {
  "language_info": {
   "codemirror_mode": {
    "name": "ipython",
    "version": 3
   },
   "file_extension": ".py",
   "mimetype": "text/x-python",
   "name": "python",
   "nbconvert_exporter": "python",
   "pygments_lexer": "ipython3",
   "version": "3.8.3-final"
  },
  "orig_nbformat": 2,
  "kernelspec": {
   "name": "python3",
   "display_name": "Python 3",
   "language": "python"
  }
 },
 "nbformat": 4,
 "nbformat_minor": 2,
 "cells": [
  {
   "source": [
    "# Felhantering\n",
    "\n",
    "- syntaxfel - språkreglerna följs inte, de hittas när man skrivir programmet/under exejvering\n",
    "\n",
    "- exekveringsfel - felt upptäckt under själva körningen, vilket kan krascha programmet \n",
    "\n",
    "- logiskt fel - \"Felaktig lösning på problemet\", kan ge felaktiga resultat. Svåra att upptäcka"
   ],
   "cell_type": "markdown",
   "metadata": {}
  },
  {
   "cell_type": "code",
   "execution_count": 12,
   "metadata": {},
   "outputs": [
    {
     "output_type": "stream",
     "name": "stdout",
     "text": [
      "Ålder ska vara ett tal och inte sträng\n",
      "Din ålder ska vara mellan 0 och 124\n",
      "Din ålder ska vara mellan 0 och 124\n",
      "Du är vuxen\n"
     ]
    }
   ],
   "source": [
    "# assert hjälper dig med att ge dig en felmedelanden. först kollar man upp om assert stämmer, om denstämmer så forstätter man med koden, om den inte stämmer så skrivir man ut vad det är för fel, i det här fallet \"din ålder ska vara mellan 0 och 124\"\n",
    "\n",
    "\n",
    "while True: \n",
    "    try:\n",
    "        ålder = float(input(\"hur gammal är du?\"))\n",
    "        # detta löser ett logiskt fel\n",
    "        assert ålder >=0 and ålder <125, \"Din ålder ska vara mellan 0 och 124\"\n",
    "        break #hoppar ut från while-satsen\n",
    "    except AssertionError as msg:\n",
    "        print(msg)\n",
    "    except:\n",
    "        print(\"Ålder ska vara ett tal och inte sträng\")\n",
    "\n",
    "if ålder >= 18:\n",
    "    print(\"Du är vuxen\")\n",
    "else:\n",
    "    print(\"Du är barn\")"
   ]
  },
  {
   "cell_type": "code",
   "execution_count": null,
   "metadata": {},
   "outputs": [],
   "source": []
  }
 ]
}