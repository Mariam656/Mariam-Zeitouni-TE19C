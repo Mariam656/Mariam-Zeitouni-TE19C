{
 "metadata": {
  "language_info": {
   "codemirror_mode": {
    "name": "ipython",
    "version": 3
   },
   "file_extension": ".py",
   "mimetype": "text/x-python",
   "name": "python",
   "nbconvert_exporter": "python",
   "pygments_lexer": "ipython3",
   "version": "3.8.3-final"
  },
  "orig_nbformat": 2,
  "kernelspec": {
   "name": "python3",
   "display_name": "Python 3"
  }
 },
 "nbformat": 4,
 "nbformat_minor": 2,
 "cells": [
  {
   "source": [
    "# Uppgift 1- simulering"
   ],
   "cell_type": "markdown",
   "metadata": {}
  },
  {
   "cell_type": "code",
   "execution_count": 8,
   "metadata": {},
   "outputs": [
    {
     "output_type": "stream",
     "name": "stdout",
     "text": [
      "0.7071067811865476\n"
     ]
    }
   ],
   "source": [
    "# a\n",
    "\n",
    "import math\n",
    "\n",
    "d = math.sqrt(0.5**2+0.5**2)\n",
    "print (d)\n",
    "\n"
   ]
  },
  {
   "cell_type": "code",
   "execution_count": 9,
   "metadata": {},
   "outputs": [
    {
     "output_type": "stream",
     "name": "stdout",
     "text": [
      "1.4142135623730951\n"
     ]
    }
   ],
   "source": [
    "# b\n",
    "\n",
    "import math\n",
    "\n",
    "d = math.sqrt(1**2+1**2)\n",
    "print (d)\n"
   ]
  },
  {
   "cell_type": "code",
   "execution_count": 11,
   "metadata": {},
   "outputs": [
    {
     "output_type": "stream",
     "name": "stdout",
     "text": [
      "0.0\n"
     ]
    }
   ],
   "source": [
    "# c\n",
    "\n",
    "import math\n",
    "\n",
    "d = math.sqrt(0.5**2+(-0.5**2))\n",
    "print (d)\n"
   ]
  },
  {
   "cell_type": "code",
   "execution_count": 32,
   "metadata": {},
   "outputs": [
    {
     "output_type": "stream",
     "name": "stdout",
     "text": [
      "-0.1560037737079134 0.4450452274262351\n0.05623852638530069 0.7127348942194891\n0.07583570101650583 0.6755179933461191\n0.39272684863184226 -0.5094576701079374\n0.7356562222920715 -0.12862667236952285\n"
     ]
    }
   ],
   "source": [
    "# d\n",
    "\n",
    "import random as rnd\n",
    "\n",
    "for x in range(5): \n",
    "    x = rnd.uniform(-1,1)\n",
    "    y= rnd.uniform(-1,1)\n",
    "    print(x,y)\n"
   ]
  },
  {
   "cell_type": "code",
   "execution_count": 43,
   "metadata": {},
   "outputs": [
    {
     "output_type": "stream",
     "name": "stdout",
     "text": [
      "-0.5972369067286916 0.5667903981142313\ninom cirkel\n-0.3075776220604156 0.0402635651369847\ninom cirkel\n-0.1763117407592545 -0.5046444266705414\ninom cirkel\n-0.3771318401699333 -0.3273265598059494\ninom cirkel\n0.9301590727271609 0.9854981350124683\nutanför\n-0.9290933846138865 -0.8593801214206223\nutanför\n-0.9644084882287733 -0.7706516451444472\nutanför\n0.4976900098910557 0.07805830337531972\ninom cirkel\n-0.43078131752274196 -0.37894072480988106\ninom cirkel\n0.34941482122986467 -0.16067969740786814\ninom cirkel\n0.7\n"
     ]
    }
   ],
   "source": [
    "# e\n",
    "\n",
    "import random as rnd\n",
    "import math\n",
    "\n",
    "inne = 0\n",
    "for x in range(10): \n",
    "    x = rnd.uniform(-1,1)\n",
    "    y= rnd.uniform(-1,1)\n",
    "    print(x,y)\n",
    "    d = math.sqrt(x**2+y**2)\n",
    "\n",
    "    if d<=1:\n",
    "        print(\"inom cirkel\")\n",
    "        inne = 1+inne\n",
    "    else:\n",
    "        print(\"utanför\")\n",
    "\n",
    "andel=inne/10\n",
    "\n",
    "print(andel)\n",
    "\n",
    "\n"
   ]
  },
  {
   "cell_type": "code",
   "execution_count": 46,
   "metadata": {},
   "outputs": [
    {
     "output_type": "stream",
     "name": "stdout",
     "text": [
      "utanför\ninom cirkel\ninom cirkel\nutanför\ninom cirkel\ninom cirkel\ninom cirkel\nutanför\ninom cirkel\ninom cirkel\n2.8\n"
     ]
    }
   ],
   "source": [
    "# f\n",
    "\n",
    "import random as rnd\n",
    "import math\n",
    "\n",
    "inne = 0\n",
    "for x in range(10): \n",
    "    x = rnd.uniform(-1,1)\n",
    "    y= rnd.uniform(-1,1)\n",
    "    print(x,y)\n",
    "    d = math.sqrt(x**2+y**2)\n",
    "\n",
    "    if d<=1:\n",
    "        print(\"inom cirkel\")\n",
    "        inne = 1+inne\n",
    "    else:\n",
    "        print(\"utanför\")\n",
    "\n",
    "andel=inne/10\n",
    "\n",
    "print(andel*4)\n",
    "\n"
   ]
  },
  {
   "cell_type": "code",
   "execution_count": null,
   "metadata": {},
   "outputs": [],
   "source": [
    "# g\n",
    "\n"
   ]
  }
 ]
}