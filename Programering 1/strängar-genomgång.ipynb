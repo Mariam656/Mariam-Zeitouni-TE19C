{
 "metadata": {
  "language_info": {
   "codemirror_mode": {
    "name": "ipython",
    "version": 3
   },
   "file_extension": ".py",
   "mimetype": "text/x-python",
   "name": "python",
   "nbconvert_exporter": "python",
   "pygments_lexer": "ipython3",
   "version": "3.8.3-final"
  },
  "orig_nbformat": 2,
  "kernelspec": {
   "name": "python3",
   "display_name": "Python 3",
   "language": "python"
  }
 },
 "nbformat": 4,
 "nbformat_minor": 2,
 "cells": [
  {
   "source": [
    "# Split"
   ],
   "cell_type": "markdown",
   "metadata": {}
  },
  {
   "cell_type": "code",
   "execution_count": 1,
   "metadata": {},
   "outputs": [
    {
     "output_type": "stream",
     "name": "stdout",
     "text": [
      "['matematik,', 'programmering,', 'teknik,', 'webbutvekling,', 'fysik']\n['lasange', ' pasta', ' kött', ' sushi', ' tacos', ' indiskt']\njag älskar att äta lasange\njag älskar att äta  pasta\njag älskar att äta  kött\njag älskar att äta  sushi\njag älskar att äta  tacos\njag älskar att äta  indiskt\n"
     ]
    }
   ],
   "source": [
    "favoritämnen = \"matematik, programmering, teknik, webbutvekling, fysik\"\n",
    "favoritmat =\"lasange, pasta, kött, sushi, tacos, indiskt\"\n",
    "\n",
    "favoritämnen = favoritämnen.split( )\n",
    "favoritmat = favoritmat.split(\",\")\n",
    "# split( ) sepererar en sträng \n",
    "\n",
    "print(favoritämnen)\n",
    "print(favoritmat)\n",
    "\n",
    "for mat in favoritmat:\n",
    "    print(f\"jag älskar att äta {mat}\")\n"
   ]
  },
  {
   "source": [
    "# konkatenering\n",
    "* lägger ihop strängar "
   ],
   "cell_type": "markdown",
   "metadata": {}
  },
  {
   "cell_type": "code",
   "execution_count": 3,
   "metadata": {},
   "outputs": [
    {
     "output_type": "stream",
     "name": "stdout",
     "text": [
      "namn: Mariam Zeitouni\nÅlder: 17\ntelefon: 112\n"
     ]
    }
   ],
   "source": [
    "förnamn = \"Mariam\"\n",
    "efternamn = \"Zeitouni\"\n",
    "\n",
    "# konkatenering (addera strängarna)\n",
    "namn = förnamn + \" \" + efternamn\n",
    "ålder = \"17\" # datatyp-str\n",
    "adress = \"kronhusgatan 9\"\n",
    "telefon = 112 # datatyp - int(heltal)\n",
    "\n",
    "personuppgifter = \"namn: \" + namn + \"\\n\" + \"Ålder: \" + ålder + \"\\n\" + \"telefon: \" + str(telefon)\n",
    "\n",
    "print(personuppgifter)"
   ]
  },
  {
   "cell_type": "code",
   "execution_count": 4,
   "metadata": {},
   "outputs": [
    {
     "output_type": "stream",
     "name": "stdout",
     "text": [
      "6\n"
     ]
    }
   ],
   "source": [
    "tal1 = int(input(\"Ange ett tal: \"))\n",
    "tal2 = int(input(\"Ange ett annat tal: \"))\n",
    "\n",
    "summa = tal1+tal2\n",
    "print(summa)"
   ]
  },
  {
   "source": [
    "# Indexering"
   ],
   "cell_type": "markdown",
   "metadata": {}
  },
  {
   "cell_type": "code",
   "execution_count": 6,
   "metadata": {},
   "outputs": [
    {
     "output_type": "stream",
     "name": "stdout",
     "text": [
      "Alfabetet innehåller 29 bokstäver\nBokstav på index 0: a\nBokstav på index -2: ä\nBokstav på index-6: x\nAlfabet baklänges: öäåzyxwvutsrqponmlkjihgfedcba\n"
     ]
    }
   ],
   "source": [
    "alfabet = \"abcdefghijklmnopqrstuvwxyzåäö\"\n",
    "\n",
    "# len() funtion _ ger längden på en lista\n",
    "print(f\"Alfabetet innehåller {len(alfabet)} bokstäver\")\n",
    "\n",
    "#indexering\n",
    "print(f\"Bokstav på index 0: {alfabet[0]}\")\n",
    "print(f\"Bokstav på index -2: {alfabet[-2]}\")\n",
    "print(f\"Bokstav på index-6: {alfabet[-6]}\")\n",
    "print(f\"Alfabet baklänges: {alfabet[::-1]}\")\n"
   ]
  },
  {
   "cell_type": "code",
   "execution_count": null,
   "metadata": {},
   "outputs": [],
   "source": []
  }
 ]
}