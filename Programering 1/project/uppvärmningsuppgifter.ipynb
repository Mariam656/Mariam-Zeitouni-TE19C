{
 "metadata": {
  "language_info": {
   "codemirror_mode": {
    "name": "ipython",
    "version": 3
   },
   "file_extension": ".py",
   "mimetype": "text/x-python",
   "name": "python",
   "nbconvert_exporter": "python",
   "pygments_lexer": "ipython3",
   "version": "3.8.3"
  },
  "orig_nbformat": 2,
  "kernelspec": {
   "name": "python383jvsc74a57bd06ff977aded9bfdf189d056fda8ee5f7c50e6ef74975dfbda7b7452ab4ee99765",
   "display_name": "Python 3.8.3 64-bit ('base': conda)"
  }
 },
 "nbformat": 4,
 "nbformat_minor": 2,
 "cells": [
  {
   "cell_type": "code",
   "execution_count": 3,
   "metadata": {},
   "outputs": [
    {
     "output_type": "execute_result",
     "data": {
      "text/plain": [
       "     2020-03-11   1\n",
       "0    2020-03-12   0\n",
       "1    2020-03-13   1\n",
       "2    2020-03-14   1\n",
       "3    2020-03-15   2\n",
       "4    2020-03-16   2\n",
       "..          ...  ..\n",
       "332  2021-02-07  16\n",
       "333  2021-02-08  14\n",
       "334  2021-02-09   5\n",
       "335  2021-02-10   3\n",
       "336  2021-02-11   1\n",
       "\n",
       "[337 rows x 2 columns]"
      ],
      "text/html": "<div>\n<style scoped>\n    .dataframe tbody tr th:only-of-type {\n        vertical-align: middle;\n    }\n\n    .dataframe tbody tr th {\n        vertical-align: top;\n    }\n\n    .dataframe thead th {\n        text-align: right;\n    }\n</style>\n<table border=\"1\" class=\"dataframe\">\n  <thead>\n    <tr style=\"text-align: right;\">\n      <th></th>\n      <th>2020-03-11</th>\n      <th>1</th>\n    </tr>\n  </thead>\n  <tbody>\n    <tr>\n      <th>0</th>\n      <td>2020-03-12</td>\n      <td>0</td>\n    </tr>\n    <tr>\n      <th>1</th>\n      <td>2020-03-13</td>\n      <td>1</td>\n    </tr>\n    <tr>\n      <th>2</th>\n      <td>2020-03-14</td>\n      <td>1</td>\n    </tr>\n    <tr>\n      <th>3</th>\n      <td>2020-03-15</td>\n      <td>2</td>\n    </tr>\n    <tr>\n      <th>4</th>\n      <td>2020-03-16</td>\n      <td>2</td>\n    </tr>\n    <tr>\n      <th>...</th>\n      <td>...</td>\n      <td>...</td>\n    </tr>\n    <tr>\n      <th>332</th>\n      <td>2021-02-07</td>\n      <td>16</td>\n    </tr>\n    <tr>\n      <th>333</th>\n      <td>2021-02-08</td>\n      <td>14</td>\n    </tr>\n    <tr>\n      <th>334</th>\n      <td>2021-02-09</td>\n      <td>5</td>\n    </tr>\n    <tr>\n      <th>335</th>\n      <td>2021-02-10</td>\n      <td>3</td>\n    </tr>\n    <tr>\n      <th>336</th>\n      <td>2021-02-11</td>\n      <td>1</td>\n    </tr>\n  </tbody>\n</table>\n<p>337 rows × 2 columns</p>\n</div>"
     },
     "metadata": {},
     "execution_count": 3
    }
   ],
   "source": [
    "# 1\n",
    "\n",
    "import pandas as pd \n",
    "\n",
    "df = pd.read_csv(\"National_Daily_Deaths.csv\", encoding=\"ISO-8859-1\", header=1) \n",
    "df"
   ]
  },
  {
   "cell_type": "code",
   "execution_count": null,
   "metadata": {},
   "outputs": [],
   "source": [
    "import matplotlib.pyplot as plt \n",
    "\n",
    "x= "
   ]
  }
 ]
}