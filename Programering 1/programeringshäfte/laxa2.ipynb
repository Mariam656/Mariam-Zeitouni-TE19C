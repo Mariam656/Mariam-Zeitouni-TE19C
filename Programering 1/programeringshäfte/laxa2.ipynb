{
 "metadata": {
  "language_info": {
   "codemirror_mode": {
    "name": "ipython",
    "version": 3
   },
   "file_extension": ".py",
   "mimetype": "text/x-python",
   "name": "python",
   "nbconvert_exporter": "python",
   "pygments_lexer": "ipython3",
   "version": "3.8.3-final"
  },
  "orig_nbformat": 2,
  "kernelspec": {
   "name": "python_defaultSpec_1600255890665",
   "display_name": "Python 3.8.3 64-bit ('base': conda)"
  }
 },
 "nbformat": 4,
 "nbformat_minor": 2,
 "cells": [
  {
   "cell_type": "markdown",
   "metadata": {},
   "source": [
    "# If satser"
   ]
  },
  {
   "cell_type": "code",
   "execution_count": 14,
   "metadata": {
    "tags": []
   },
   "outputs": [
    {
     "output_type": "stream",
     "name": "stdout",
     "text": "Talet är 0\n"
    }
   ],
   "source": [
    "# Uppgift 1\n",
    "\n",
    "tal = int(input(\"Ange ett tal: \"))\n",
    "\n",
    "if tal >=1:\n",
    "    print(\"Talet är postivit\")\n",
    "if tal <=-1: \n",
    "    print(\"Talet är negativ\")\n",
    "if tal == 0:\n",
    "    print(\"Talet är 0\")\n",
    "\n",
    "\n"
   ]
  },
  {
   "cell_type": "code",
   "execution_count": 18,
   "metadata": {
    "tags": []
   },
   "outputs": [
    {
     "output_type": "stream",
     "name": "stdout",
     "text": "Talet är udda\n"
    }
   ],
   "source": [
    "# Uppgift 2\n",
    "\n",
    "tal = int(input(\"Ange ett tal: \"))\n",
    "\n",
    "if tal%2 == 0:\n",
    "    print(\"Talet är jämnt\")\n",
    "else:\n",
    "    print(\"Talet är udda\")\n",
    "if tal%5 == 0: \n",
    "    print(\"Talet är delbar med 5\")\n",
    "\n",
    "\n"
   ]
  },
  {
   "cell_type": "code",
   "execution_count": 34,
   "metadata": {
    "tags": []
   },
   "outputs": [
    {
     "output_type": "stream",
     "name": "stdout",
     "text": "16>14\n"
    }
   ],
   "source": [
    "# Uppgift 3 \n",
    "\n",
    "tal1 = int(input(\"Ange ditt första tal: \"))\n",
    "tal2 = int(input(\"Ange din andra tal: \"))\n",
    "\n",
    "if tal1 > tal2:\n",
    "    print(f\"{tal1}<{tal2}\")\n",
    "if tal2 > tal1:\n",
    "    print(f\"{tal2}>{tal1}\")\n",
    "\n",
    "\n",
    "\n",
    "\n",
    "\n"
   ]
  },
  {
   "cell_type": "code",
   "execution_count": null,
   "metadata": {},
   "outputs": [],
   "source": []
  }
 ]
}