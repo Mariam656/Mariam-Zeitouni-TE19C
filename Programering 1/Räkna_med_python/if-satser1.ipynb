{
 "metadata": {
  "language_info": {
   "codemirror_mode": {
    "name": "ipython",
    "version": 3
   },
   "file_extension": ".py",
   "mimetype": "text/x-python",
   "name": "python",
   "nbconvert_exporter": "python",
   "pygments_lexer": "ipython3",
   "version": "3.8.3-final"
  },
  "orig_nbformat": 2,
  "kernelspec": {
   "name": "python_defaultSpec_1600255473330",
   "display_name": "Python 3.8.3 64-bit ('base': conda)"
  }
 },
 "nbformat": 4,
 "nbformat_minor": 2,
 "cells": [
  {
   "cell_type": "markdown",
   "metadata": {},
   "source": [
    "# Jämt eller udda\n",
    "* Läs in ett tal och checka omtalet är jämt elle udda"
   ]
  },
  {
   "cell_type": "code",
   "execution_count": 1,
   "metadata": {
    "tags": []
   },
   "outputs": [
    {
     "output_type": "stream",
     "name": "stdout",
     "text": "Talet är jämnt\n"
    }
   ],
   "source": [
    "tal = int(input(\"Ange ett heltal: \")) # typomvandla till jnt (heltal)\n",
    "\n",
    "# med% --> om tal%2 == 0 --> jämnt, annars udda\n",
    "if tal%2 == 0: \n",
    "    print(\"Talet är jämnt\")\n",
    "else: \n",
    "    print(\"Talet är udda\")\n",
    "    "
   ]
  },
  {
   "cell_type": "markdown",
   "metadata": {},
   "source": [
    "# Triangel vinkel\n",
    "- Spetsig\n",
    "- Rät\n",
    "- Trubbig\n",
    "- Annat\n",
    "\n",
    "Spetsig: 0 <= v < 90$\n",
    "\n",
    "Rät: $v = 90$\n",
    "\n",
    "Trubbig: $ <v $"
   ]
  },
  {
   "cell_type": "code",
   "execution_count": 5,
   "metadata": {
    "tags": []
   },
   "outputs": [
    {
     "output_type": "stream",
     "name": "stdout",
     "text": "Rät vinkel\nProgrammet forsätter här\n"
    }
   ],
   "source": [
    "vinkel = float(input(\"Ange en vinkel v i grader, där 0 <= v <= 360 : \"))\n",
    "\n",
    "if vinkel >= 0 and vinkel < 90:\n",
    "    print(\"Spetsig vinkel\")\n",
    "elif vinkel == 90:\n",
    "    print(\"Rät vinkel\")\n",
    "elif vinkel > 90 and vinekl < 180:\n",
    "    print(\"Trubig vinkel\")\n",
    "else: \n",
    "    print(\"Vinkeln är inte spetsig, rät eller trubbig\")\n",
    "\n",
    "print(\"Programmet forsätter här\")\n"
   ]
  },
  {
   "cell_type": "code",
   "execution_count": null,
   "metadata": {},
   "outputs": [],
   "source": [
    "\n"
   ]
  }
 ]
}