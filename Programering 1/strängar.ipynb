{
 "metadata": {
  "language_info": {
   "codemirror_mode": {
    "name": "ipython",
    "version": 3
   },
   "file_extension": ".py",
   "mimetype": "text/x-python",
   "name": "python",
   "nbconvert_exporter": "python",
   "pygments_lexer": "ipython3",
   "version": "3.8.3-final"
  },
  "orig_nbformat": 2,
  "kernelspec": {
   "name": "python3",
   "display_name": "Python 3"
  }
 },
 "nbformat": 4,
 "nbformat_minor": 2,
 "cells": [
  {
   "source": [
    "# Strängar "
   ],
   "cell_type": "markdown",
   "metadata": {}
  },
  {
   "cell_type": "code",
   "execution_count": 2,
   "metadata": {},
   "outputs": [
    {
     "output_type": "stream",
     "name": "stdout",
     "text": [
      "Ditt namn har 6 bokstäver. \n"
     ]
    }
   ],
   "source": [
    "# 1 \n",
    "\n",
    "namn = str(input(\"Ange ditt namn\"))\n",
    "\n",
    "print(f\"Ditt namn har {len(namn)} bokstäver. \")\n",
    "\n"
   ]
  },
  {
   "cell_type": "code",
   "execution_count": 10,
   "metadata": {},
   "outputs": [
    {
     "output_type": "stream",
     "name": "stdout",
     "text": [
      " Meningen innehåller 15 ord\n"
     ]
    }
   ],
   "source": [
    "# 2\n",
    "\n",
    "mening = \"En bild säger mer än tusen ord, en matematisk formel säger mer än tusen bilder\"\n",
    "\n",
    "mening = mening.split(\" \")\n",
    "\n",
    "print(f\" Meningen innehåller {len(mening)} ord\")"
   ]
  },
  {
   "cell_type": "code",
   "execution_count": 22,
   "metadata": {},
   "outputs": [
    {
     "output_type": "stream",
     "name": "stdout",
     "text": [
      "Följden är inte ett palindrom\n"
     ]
    }
   ],
   "source": [
    "# 3a\n",
    "\n",
    "mening = input(\"Ange ett följd av tecken utan mellanslga och skiljetecken\")\n",
    "\n",
    "if mening == mening[::-1]:\n",
    "    print(\"Det är ett palindrom\")\n",
    "else:\n",
    "    print(\"Följden är inte ett palindrom\")"
   ]
  },
  {
   "cell_type": "code",
   "execution_count": 27,
   "metadata": {},
   "outputs": [
    {
     "output_type": "error",
     "ename": "SyntaxError",
     "evalue": "invalid syntax (<ipython-input-27-aa2c8a044a84>, line 5)",
     "traceback": [
      "\u001b[1;36m  File \u001b[1;32m\"<ipython-input-27-aa2c8a044a84>\"\u001b[1;36m, line \u001b[1;32m5\u001b[0m\n\u001b[1;33m    if mening == mening[:::-1]:\u001b[0m\n\u001b[1;37m                          ^\u001b[0m\n\u001b[1;31mSyntaxError\u001b[0m\u001b[1;31m:\u001b[0m invalid syntax\n"
     ]
    }
   ],
   "source": [
    "# 3b\n",
    "\n",
    "mening = input(\"Ange ett följd av tecken utan mellanslga och skiljetecken\")\n",
    "\n",
    "if mening == mening[::-1]:\n",
    "    print(\"Det är ett palindrom\")\n",
    "else:\n",
    "    print(\"Följden är inte ett palindrom\")"
   ]
  },
  {
   "cell_type": "code",
   "execution_count": 30,
   "metadata": {},
   "outputs": [
    {
     "output_type": "stream",
     "name": "stdout",
     "text": [
      "Nej\n"
     ]
    }
   ],
   "source": [
    "följd = input(\"skriv ett tal\")\n",
    "\n",
    "baklänges = f\"{följd[::-1]}\"\n",
    "\n",
    "if följd == baklänges:\n",
    "    print(\"ja\")\n",
    "else:\n",
    "    print(\"Nej\")"
   ]
  },
  {
   "cell_type": "code",
   "execution_count": null,
   "metadata": {},
   "outputs": [],
   "source": []
  }
 ]
}