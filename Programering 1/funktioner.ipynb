{
 "metadata": {
  "language_info": {
   "codemirror_mode": {
    "name": "ipython",
    "version": 3
   },
   "file_extension": ".py",
   "mimetype": "text/x-python",
   "name": "python",
   "nbconvert_exporter": "python",
   "pygments_lexer": "ipython3",
   "version": "3.8.3-final"
  },
  "orig_nbformat": 2,
  "kernelspec": {
   "name": "python3",
   "display_name": "Python 3",
   "language": "python"
  }
 },
 "nbformat": 4,
 "nbformat_minor": 2,
 "cells": [
  {
   "source": [
    "# Funktioner"
   ],
   "cell_type": "markdown",
   "metadata": {}
  },
  {
   "cell_type": "code",
   "execution_count": 5,
   "metadata": {},
   "outputs": [
    {
     "output_type": "stream",
     "name": "stdout",
     "text": [
      "5050.0\n"
     ]
    }
   ],
   "source": [
    "# 1a \n",
    "\n",
    "def aritmetisk_summa(a1, an, n):\n",
    "    return n*(a1+an)/2\n",
    "\n",
    "print(aritmetisk_summa(100,1,100))\n",
    "\n",
    "\n"
   ]
  },
  {
   "cell_type": "code",
   "execution_count": 7,
   "metadata": {},
   "outputs": [
    {
     "output_type": "stream",
     "name": "stdout",
     "text": [
      "5050.0\n"
     ]
    }
   ],
   "source": [
    "# 1b\n",
    "\n",
    "def aritmetisk_summa(a1, an, n):\n",
    "    return n*(a1+an)/2\n",
    "\n",
    "print(aritmetisk_summa(1,100,100))"
   ]
  },
  {
   "cell_type": "code",
   "execution_count": 16,
   "metadata": {},
   "outputs": [
    {
     "output_type": "stream",
     "name": "stdout",
     "text": [
      "aritmetisk summa ifrån 2 till 4 är 10.0\n"
     ]
    }
   ],
   "source": [
    "# 1c\n",
    "\n",
    "a1= int(input(\"Ange ett tal\"))\n",
    "an= int(input(\"Ange ett tal\"))\n",
    "n= int(input(\"Ange ett tal\"))\n",
    "\n",
    "def aritmetisk_summa(a1, an, n):\n",
    "    return n*(a1+an)/2\n",
    "\n",
    "print(f\"Aritmetisk summa ifrån {a1} till {n} är {aritmetisk_summa(a1,an,n)}\")\n",
    "\n"
   ]
  },
  {
   "cell_type": "code",
   "execution_count": 27,
   "metadata": {},
   "outputs": [
    {
     "output_type": "stream",
     "name": "stdout",
     "text": [
      "Funtionen (s = 1+3+5....(2*n+1)) som har n värdet 3 har summan 16\n"
     ]
    }
   ],
   "source": [
    "# 2a\n",
    "\n",
    "n = int(input(\"Ange ett tal\"))\n",
    "\n",
    "def f(n):\n",
    "    an = 0\n",
    "    for i in range(1,2*n+1,2):\n",
    "        an +=i\n",
    "    return an+2*n+1\n",
    "\n",
    "print(f\"Funtionen (s = 1+3+5....(2*n+1)) som har n värdet {n} har summan {f(n)}\")"
   ]
  },
  {
   "cell_type": "code",
   "execution_count": 30,
   "metadata": {},
   "outputs": [
    {
     "output_type": "stream",
     "name": "stdout",
     "text": [
      "Funtionen (s = 1+3+5....(2*n+1)) som börjar med värdet 5 och har n värdet 7 har summan 36\n"
     ]
    }
   ],
   "source": [
    "# 2b\n",
    "\n",
    "start= int(input(\"Ange ett start värde: \"))\n",
    "n = int(input(\"Ange ett tal: \"))\n",
    "\n",
    "def f(n):\n",
    "    an = 0\n",
    "    for i in range(start,2*start+1,2):\n",
    "        an +=i\n",
    "    return an+2*n+1\n",
    "\n",
    "print(f\"Funtionen (s = 1+3+5....(2*n+1)) som börjar med värdet {start} och har n värdet {n} har summan {f(n)}\")\n"
   ]
  },
  {
   "cell_type": "code",
   "execution_count": 60,
   "metadata": {},
   "outputs": [
    {
     "output_type": "stream",
     "name": "stdout",
     "text": [
      "4.24\n"
     ]
    }
   ],
   "source": [
    "# 3a\n",
    "import math\n",
    "\n",
    "avstånd = math.sqrt(3**2+3**2)\n",
    "print(f\"{avstånd:.2f}\")"
   ]
  },
  {
   "cell_type": "code",
   "execution_count": null,
   "metadata": {},
   "outputs": [],
   "source": [
    "# 3b \n",
    "\n",
    "def f(avstånt):\n",
    "    "
   ]
  },
  {
   "cell_type": "code",
   "execution_count": 69,
   "metadata": {},
   "outputs": [
    {
     "output_type": "stream",
     "name": "stdout",
     "text": [
      " Avstånden från origo till punkten som ligger på x=7 och y=6 är 9.22\n"
     ]
    }
   ],
   "source": [
    "# 3c \n",
    "import math\n",
    "\n",
    "a = int(input(\"Anger ett tal: \"))\n",
    "b = int(input(\"Ange ett tal: \"))\n",
    "\n",
    "def f(n):\n",
    "    return math.sqrt(a**2+b**2)\n",
    "print(f\" Avstånden från origo till punkten som ligger på x={a} och y={b} är {f(n):.2f}\")"
   ]
  },
  {
   "cell_type": "code",
   "execution_count": 23,
   "metadata": {},
   "outputs": [
    {
     "output_type": "stream",
     "name": "stdout",
     "text": [
      "1\n3\n5\n"
     ]
    }
   ],
   "source": [
    "n = int(input(\"Ange ett tal\"))\n",
    "an = 0\n",
    "\n",
    "for i in range(1,2*n+1,2):\n",
    "    an +=i\n",
    "    print(an)"
   ]
  },
  {
   "cell_type": "code",
   "execution_count": null,
   "metadata": {},
   "outputs": [],
   "source": []
  }
 ]
}