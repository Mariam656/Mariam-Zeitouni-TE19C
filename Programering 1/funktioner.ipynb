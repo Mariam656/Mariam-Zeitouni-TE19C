{
 "metadata": {
  "language_info": {
   "codemirror_mode": {
    "name": "ipython",
    "version": 3
   },
   "file_extension": ".py",
   "mimetype": "text/x-python",
   "name": "python",
   "nbconvert_exporter": "python",
   "pygments_lexer": "ipython3",
   "version": "3.8.3-final"
  },
  "orig_nbformat": 2,
  "kernelspec": {
   "name": "python3",
   "display_name": "Python 3"
  }
 },
 "nbformat": 4,
 "nbformat_minor": 2,
 "cells": [
  {
   "source": [
    "# Funktioner"
   ],
   "cell_type": "markdown",
   "metadata": {}
  },
  {
   "cell_type": "code",
   "execution_count": 5,
   "metadata": {},
   "outputs": [
    {
     "output_type": "stream",
     "name": "stdout",
     "text": [
      "5050.0\n"
     ]
    }
   ],
   "source": [
    "# 1a \n",
    "\n",
    "def aritmetisk_summa(a1, an, n):\n",
    "    return n*(a1+an)/2\n",
    "\n",
    "print(aritmetisk_summa(100,1,100))\n",
    "\n",
    "\n"
   ]
  },
  {
   "cell_type": "code",
   "execution_count": 7,
   "metadata": {},
   "outputs": [
    {
     "output_type": "stream",
     "name": "stdout",
     "text": [
      "5050.0\n"
     ]
    }
   ],
   "source": [
    "# 1b\n",
    "\n",
    "def aritmetisk_summa(a1, an, n):\n",
    "    return n*(a1+an)/2\n",
    "\n",
    "print(aritmetisk_summa(1,100,100))"
   ]
  },
  {
   "cell_type": "code",
   "execution_count": 16,
   "metadata": {},
   "outputs": [
    {
     "output_type": "stream",
     "name": "stdout",
     "text": [
      "aritmetisk summa ifrån 2 till 4 är 10.0\n"
     ]
    }
   ],
   "source": [
    "# 1c\n",
    "\n",
    "a1= int(input(\"Ange ett tal\"))\n",
    "an= int(input(\"Ange ett tal\"))\n",
    "n= int(input(\"Ange ett tal\"))\n",
    "\n",
    "def aritmetisk_summa(a1, an, n):\n",
    "    return n*(a1+an)/2\n",
    "\n",
    "print(f\"Aritmetisk summa ifrån {a1} till {n} är {aritmetisk_summa(a1,an,n)}\")\n",
    "\n"
   ]
  },
  {
   "cell_type": "code",
   "execution_count": null,
   "metadata": {},
   "outputs": [],
   "source": [
    "# 2a\n",
    "n = int(input(\"Ange ett tal\"))\n",
    "\n",
    "for i in range(1,n,2):\n",
    "    def f(n):\n",
    "        return i+(2*n+1)\n",
    "\n",
    "print(f\"Summan av funktionen är {f(n)}\")"
   ]
  },
  {
   "cell_type": "code",
   "execution_count": null,
   "metadata": {},
   "outputs": [],
   "source": []
  }
 ]
}