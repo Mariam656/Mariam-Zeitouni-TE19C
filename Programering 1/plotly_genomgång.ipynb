{
 "metadata": {
  "language_info": {
   "codemirror_mode": {
    "name": "ipython",
    "version": 3
   },
   "file_extension": ".py",
   "mimetype": "text/x-python",
   "name": "python",
   "nbconvert_exporter": "python",
   "pygments_lexer": "ipython3",
   "version": "3.8.3"
  },
  "orig_nbformat": 2,
  "kernelspec": {
   "name": "python383jvsc74a57bd06ff977aded9bfdf189d056fda8ee5f7c50e6ef74975dfbda7b7452ab4ee99765",
   "display_name": "Python 3.8.3 64-bit (conda)"
  }
 },
 "nbformat": 4,
 "nbformat_minor": 2,
 "cells": [
  {
   "cell_type": "code",
   "execution_count": 3,
   "metadata": {},
   "outputs": [
    {
     "output_type": "error",
     "ename": "ModuleNotFoundError",
     "evalue": "No module named 'plotly'",
     "traceback": [
      "\u001b[1;31m---------------------------------------------------------------------------\u001b[0m",
      "\u001b[1;31mModuleNotFoundError\u001b[0m                       Traceback (most recent call last)",
      "\u001b[1;32m<ipython-input-3-8b61eb2f2fd6>\u001b[0m in \u001b[0;36m<module>\u001b[1;34m\u001b[0m\n\u001b[1;32m----> 1\u001b[1;33m \u001b[1;32mimport\u001b[0m \u001b[0mplotly\u001b[0m\u001b[1;33m.\u001b[0m\u001b[0mexpress\u001b[0m \u001b[1;32mas\u001b[0m \u001b[0mpx\u001b[0m\u001b[1;33m\u001b[0m\u001b[1;33m\u001b[0m\u001b[0m\n\u001b[0m\u001b[0;32m      2\u001b[0m \u001b[1;32mimport\u001b[0m \u001b[0mnumpy\u001b[0m \u001b[1;32mas\u001b[0m \u001b[0mnp\u001b[0m\u001b[1;33m\u001b[0m\u001b[1;33m\u001b[0m\u001b[0m\n\u001b[0;32m      3\u001b[0m \u001b[1;33m\u001b[0m\u001b[0m\n\u001b[0;32m      4\u001b[0m \u001b[1;31m# simuler träningskast\u001b[0m\u001b[1;33m\u001b[0m\u001b[1;33m\u001b[0m\u001b[1;33m\u001b[0m\u001b[0m\n\u001b[0;32m      5\u001b[0m \u001b[1;33m\u001b[0m\u001b[0m\n",
      "\u001b[1;31mModuleNotFoundError\u001b[0m: No module named 'plotly'"
     ]
    }
   ],
   "source": [
    "import plotly.express as px\n",
    "import numpy as np \n",
    "import pandas as pd\n",
    "\n",
    "antal_kast = 100\n",
    "\n",
    "# simuler träningskast\n",
    "träningar = np.random.randit(1,7,antal_kast)\n",
    "\n",
    "# räkna antalet ettor, tvåor, treor, fyror ......\n",
    "utfalll = np.bincount(träningar)[1:]\n",
    "\n",
    "# skapa en dictionary\n",
    "frekvens_dict = dict(sida=np.arange(1,7), utfall = utfall)\n",
    "\n",
    "# skapa en dataframe från dictionary\n",
    "df = pd.DataFrame(frekvens_dict)\n",
    "\n",
    "# plotly expres för att rita ett stapeldiagram\n",
    "fig = px.bar(df, x=\"sida\", y=\"utfall\", title=f\"Antal kast med en tärning {antal_kast} st\")\n",
    "fig.show()\n",
    "\n",
    "print(frekcens_dict, \"\\n\")\n",
    "print(f\"Tärningskasts: {träningar}\\n\")\n",
    "print(f\"Utfall per sida: {utfall}\\n\")\n",
    "print(df)\n"
   ]
  },
  {
   "cell_type": "code",
   "execution_count": null,
   "metadata": {},
   "outputs": [],
   "source": []
  }
 ]
}