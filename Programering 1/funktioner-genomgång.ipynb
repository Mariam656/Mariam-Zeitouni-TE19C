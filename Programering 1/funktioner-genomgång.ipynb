{
 "metadata": {
  "language_info": {
   "codemirror_mode": {
    "name": "ipython",
    "version": 3
   },
   "file_extension": ".py",
   "mimetype": "text/x-python",
   "name": "python",
   "nbconvert_exporter": "python",
   "pygments_lexer": "ipython3",
   "version": "3.8.3-final"
  },
  "orig_nbformat": 2,
  "kernelspec": {
   "name": "python3",
   "display_name": "Python 3"
  }
 },
 "nbformat": 4,
 "nbformat_minor": 2,
 "cells": [
  {
   "source": [
    "# Genomgång 2, 2/12/2020"
   ],
   "cell_type": "markdown",
   "metadata": {}
  },
  {
   "cell_type": "code",
   "execution_count": 18,
   "metadata": {},
   "outputs": [
    {
     "output_type": "stream",
     "name": "stdout",
     "text": [
      "9\n"
     ]
    }
   ],
   "source": [
    "def f(x):\n",
    "    return (-x)**2\n",
    "print(f(3))"
   ]
  },
  {
   "cell_type": "code",
   "execution_count": 17,
   "metadata": {},
   "outputs": [
    {
     "output_type": "stream",
     "name": "stdout",
     "text": [
      "hej\n"
     ]
    }
   ],
   "source": [
    "def sayHello():\n",
    "    print(\"hej\")\n",
    "\n",
    "sayHello()"
   ]
  },
  {
   "cell_type": "code",
   "execution_count": 22,
   "metadata": {},
   "outputs": [
    {
     "output_type": "stream",
     "name": "stdout",
     "text": [
      "TE19C är bäst\nTE19C ska sluta spela kort\n"
     ]
    }
   ],
   "source": [
    "def skrivUt(text):\n",
    "    print(text)\n",
    "\n",
    "skrivUt(\"TE19C är bäst\")\n",
    "skrivUt(\"TE19C ska sluta spela kort\")\n"
   ]
  },
  {
   "cell_type": "code",
   "execution_count": 26,
   "metadata": {},
   "outputs": [
    {
     "output_type": "stream",
     "name": "stdout",
     "text": [
      "1000000\n"
     ]
    }
   ],
   "source": [
    "def minsta(tal1,tal2):\n",
    "    if tal1 < tal2:\n",
    "        return tal2\n",
    "    else:\n",
    "        return tal1\n",
    "print(minsta(1,1000000))\n"
   ]
  },
  {
   "source": [
    "genomgång 3, 4/12/2020\n",
    "\n",
    "# Area av triangel"
   ],
   "cell_type": "markdown",
   "metadata": {}
  },
  {
   "cell_type": "code",
   "execution_count": 6,
   "metadata": {},
   "outputs": [
    {
     "output_type": "stream",
     "name": "stdout",
     "text": [
      "Arean på en triangel med bas 2 l.e. och 4 l.e. är 4.0 a.e.\nArean på en triangel med bas 10 l.e. och 12 l.e. är 60.0 a.e.\n"
     ]
    }
   ],
   "source": [
    "def triangelarea(bas, höjd):\n",
    "    area = bas*höjd/2\n",
    "    return area\n",
    "\n",
    "area1 = triangelarea(2,4)\n",
    "area2 = triangelarea(10,12)\n",
    "\n",
    "print(f\"Arean på en triangel med bas 2 l.e. och 4 l.e. är {area1} a.e.\")\n",
    "print(f\"Arean på en triangel med bas 10 l.e. och 12 l.e. är {area2} a.e.\")"
   ]
  },
  {
   "cell_type": "code",
   "execution_count": null,
   "metadata": {},
   "outputs": [],
   "source": []
  }
 ]
}