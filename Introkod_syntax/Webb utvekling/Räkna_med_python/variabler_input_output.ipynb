{
 "metadata": {
  "language_info": {
   "codemirror_mode": {
    "name": "ipython",
    "version": 3
   },
   "file_extension": ".py",
   "mimetype": "text/x-python",
   "name": "python",
   "nbconvert_exporter": "python",
   "pygments_lexer": "ipython3",
   "version": "3.8.3-final"
  },
  "orig_nbformat": 2,
  "kernelspec": {
   "name": "python_defaultSpec_1599201836917",
   "display_name": "Python 3.8.3 64-bit ('base': conda)"
  }
 },
 "nbformat": 4,
 "nbformat_minor": 2,
 "cells": [
  {
   "cell_type": "markdown",
   "metadata": {},
   "source": [
    "# Tyngdkraft \n",
    "\n",
    "## Frågor användaren om sin vikt\n",
    "### Beräkna Tyngdkraft\n",
    "\n",
    "#### F = mg "
   ]
  },
  {
   "cell_type": "code",
   "execution_count": 8,
   "metadata": {
    "tags": []
   },
   "outputs": [
    {
     "output_type": "stream",
     "name": "stdout",
     "text": "Din tyngkraft är 599.02N\nDin tyndgdkraft är 599.02 N\n"
    }
   ],
   "source": [
    "# Skapar en variabel g och tilldelar det värdet 9.82\n",
    "g = 9.82\n",
    "\n",
    "# input ger oss en sträng, float typomvandlar den till flyttal \n",
    "m = float(input(\"Hur mycket väger du?\"))\n",
    "\n",
    "F = m*g\n",
    "\n",
    "print(f\" Din tyngkraft är {F:.2f}N\") #f-string,:.2F väljer man hur många decimaler man vill ha\n",
    "print(\"Din tyndgdkraft är\", F, \"N\") "
   ]
  },
  {
   "cell_type": "markdown",
   "metadata": {},
   "source": [
    "# Procent \n",
    "\n",
    "* Fråga användaren om ett deciamltal\n",
    "* Omvandla talet till procent"
   ]
  },
  {
   "cell_type": "code",
   "execution_count": 18,
   "metadata": {
    "tags": []
   },
   "outputs": [
    {
     "output_type": "stream",
     "name": "stdout",
     "text": "0.58 = 58%\n0.58 = 58 %\n"
    }
   ],
   "source": [
    "decimalTal = float(input(\"Ange ett decimaltal: \"))\n",
    "\n",
    "procent = decimalTal*100\n",
    "\n",
    "print(f\"{decimalTal} = {procent:.0f}%\")\n",
    "print(decimalTal,\"=\",round(procent),\"%\")"
   ]
  },
  {
   "cell_type": "markdown",
   "metadata": {},
   "source": [
    "# K\n",
    "\n",
    "* Fråga användaren att ange temperaturen i Kelvin och omvandla till C"
   ]
  },
  {
   "cell_type": "code",
   "execution_count": 29,
   "metadata": {
    "tags": []
   },
   "outputs": [
    {
     "output_type": "stream",
     "name": "stdout",
     "text": "7.0 = -265.15°C\n"
    }
   ],
   "source": [
    "Kelvin = float(input(\"Ange temperaturen i kelvin: \"))\n",
    "\n",
    "Celsius = Kelvin-272.15\n",
    "\n",
    "print(f\"{Kelvin} = {Celsius:.2f}°C\")\n"
   ]
  },
  {
   "cell_type": "markdown",
   "metadata": {},
   "source": [
    "# C - K\n",
    "\n",
    "* Fråga användaren att ange temperaturen i Kelvin och omvandla till °C\n"
   ]
  },
  {
   "cell_type": "code",
   "execution_count": 36,
   "metadata": {
    "tags": []
   },
   "outputs": [
    {
     "output_type": "stream",
     "name": "stdout",
     "text": "20.0°C = 292.15\n"
    }
   ],
   "source": [
    "Celsius = float(input(\"Ange temperaturen i Kelvin: \"))\n",
    "\n",
    "Kelvin = Celsius+272.15\n",
    "\n",
    "print(f\"{Celsius}°C = {Kelvin:.2f}\")"
   ]
  },
  {
   "cell_type": "code",
   "execution_count": null,
   "metadata": {},
   "outputs": [],
   "source": []
  }
 ]
}